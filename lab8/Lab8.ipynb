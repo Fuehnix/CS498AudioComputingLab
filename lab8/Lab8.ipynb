{
 "cells": [
  {
   "cell_type": "markdown",
   "metadata": {
    "deletable": false,
    "editable": false,
    "nbgrader": {
     "cell_type": "markdown",
     "checksum": "3a2d69266e438dc5ff367df299a78730",
     "grade": false,
     "grade_id": "cell-cad022ce18ee41e4",
     "locked": true,
     "schema_version": 3,
     "solution": false,
     "task": false
    }
   },
   "source": [
    "# Lab 8: Audio Classification "
   ]
  },
  {
   "cell_type": "markdown",
   "metadata": {
    "deletable": false,
    "editable": false,
    "nbgrader": {
     "cell_type": "markdown",
     "checksum": "b455130b72ffb37275f09743824b7b93",
     "grade": false,
     "grade_id": "cell-de39fbc2436b23e5",
     "locked": true,
     "schema_version": 3,
     "solution": false,
     "task": false
    }
   },
   "source": [
    "## Part 1: Making a speech detector"
   ]
  },
  {
   "cell_type": "markdown",
   "metadata": {
    "deletable": false,
    "editable": false,
    "nbgrader": {
     "cell_type": "markdown",
     "checksum": "8e6bdc6e62576f57eebd1cbeb704ef88",
     "grade": false,
     "grade_id": "cell-2aa6f72c371ee5fd",
     "locked": true,
     "schema_version": 3,
     "solution": false,
     "task": false
    }
   },
   "source": [
    "In this section we will design a simple classifier that will let us know if its input is speech or non-speech. Download the data archive from: [ https://drive.google.com/file/d/1oAnvk-hzzgzZ4di4W0pKw6v3IWLm9u2X/view?usp=sharing ] In this part we will use the dataset in data/SpeechMusic. In it you will find two directories, speech/ and music/ containing data from each class.\n",
    "\n",
    "Randomly select 50 soundfiles from each directory to use as training data, and use the remaining sounds as testing data. For all of the sounds we will compute a representation that makes the classification easier and we will use a simple Gaussian model to classify them. Do the following:\n",
    "\n",
    "- Perform an STFT for each sound, take it’s magnitude and raise it to 0.3 to improve contrast\n",
    "    - We will consider each spectral slice of that to be a data point\n",
    "- Using the training data of each sound:\n",
    "    - Calculate the mean column and the diagonal covariance of the columns\n",
    "    - You will thus get two sets of Gaussian parameters that model each sound class\n",
    "- For each testing data point:\n",
    "    - Calculate the likelihood of each column based on the above models\n",
    "\t- To calculate the entire file likelihood add all the frame likelihoods\n",
    "\t- Assign each soundfile to the class that gets the highest likelihood\n",
    "\n",
    "For extra credit implement the parameter estimation and model likelihood yourself. If you are too lazy for that you can instead use ```sklearn.mixture.GaussianMixture``` to learn a diagonal single-Gaussian model per class.\n",
    "\n",
    "How do the results look like? If you rerun this with a different training/testing set, is there an appreciable difference? On average over multiple training/testing sets what accuracy do you get?"
   ]
  },
  {
   "cell_type": "code",
   "execution_count": 72,
   "metadata": {
    "deletable": false,
    "nbgrader": {
     "cell_type": "code",
     "checksum": "d5d414603227ac878e0dd7d54775eca6",
     "grade": true,
     "grade_id": "cell-fd9d89ff0ddb0ec1",
     "locked": false,
     "points": 3,
     "schema_version": 3,
     "solution": true,
     "task": false
    }
   },
   "outputs": [],
   "source": [
    "# YOUR CODE HERE\n",
    "import numpy as np\n",
    "import math\n",
    "import IPython\n",
    "import matplotlib.pyplot as plt\n",
    "import scipy.io.wavfile as wavfile\n",
    "import scipy.signal as sg\n",
    "from tqdm import tqdm\n",
    "from os import listdir\n",
    "from sklearn.model_selection import train_test_split \n",
    "from sklearn.mixture import GaussianMixture\n",
    "\n",
    "def sound( x, rate=8000, label=''):\n",
    "    from IPython.display import display, Audio, HTML\n",
    "    display( HTML( \n",
    "    '<style> table, th, td {border: 0px; }</style> <table><tr><td>' + label + \n",
    "    '</td><td>' + Audio( x, rate=rate)._repr_html_()[3:] + '</td></tr></table>'\n",
    "    ))\n",
    "\n",
    "def stft( input_sound, dft_size, hop_size, zero_pad, window):\n",
    "    # YOUR CODE HERE\n",
    "    padZeroes = np.zeros(dft_size)\n",
    "    pad = np.append(padZeroes, input_sound)\n",
    "    pad = np.append(pad, padZeroes)\n",
    "    tempMatrix = []\n",
    "    for i in range(0, len(pad)-dft_size, hop_size):\n",
    "        tempMatrix.append(pad[i:i+dft_size] * window)\n",
    "    out = []\n",
    "    for i in range(len(tempMatrix)):\n",
    "        rfft = np.fft.rfft(tempMatrix[i], dft_size+zero_pad)\n",
    "        out.append(np.reshape(rfft, (-1, 1)))     \n",
    "    return np.hstack(out)\n",
    "\n",
    "def istft( stft_output, dft_size, hop_size, zero_pad, window):\n",
    "    # YOUR CODE HERE\n",
    "    irfftSounds = []\n",
    "    for segment in stft_output.T:\n",
    "        irfftSounds.append(np.fft.irfft(segment, dft_size+zero_pad))\n",
    "    irfftSounds = np.array(irfftSounds)\n",
    "    input_sound = np.zeros(dft_size+hop_size*(len(irfftSounds)-1))\n",
    "    for i in range(len(irfftSounds)):\n",
    "        input_sound[i*hop_size:i*hop_size+dft_size] += (irfftSounds[i][:dft_size] * window)\n",
    "    input_sound = input_sound[dft_size:]\n",
    "    return input_sound\n",
    "\n",
    "def loadDir(directory):\n",
    "    audioData = []\n",
    "    rate = 0\n",
    "    for filename in tqdm(listdir(directory)):\n",
    "        if filename.endswith(\".wav\"):\n",
    "            curFilePath = os.path.join(directory, filename)\n",
    "            #rate should be same for all files, only 1 variable needed\n",
    "            wavRate, wavData = wavfile.read(curFilePath)\n",
    "            audioData.append(wavData)\n",
    "            if rate != wavRate:\n",
    "                rate = wavRate\n",
    "    return audioData, rate\n",
    "\n",
    "\n",
    "def getSTFT(dataList):\n",
    "    stftList = []\n",
    "    for data in tqdm(dataList):\n",
    "        curSTFT = stft(data,  dft_size, hop_size, zero_pad, window)\n",
    "        magnitude = np.abs(curSTFT)\n",
    "        curSTFT = np.power(magnitude, 0.3)\n",
    "        stftList.append(curSTFT)\n",
    "    return stftList\n",
    "\n",
    "\n",
    "#computer performance method should work, as it is from a past project of mine, \n",
    "#but the numbers it gives me are weird for accuracy, so I probably implemented it wrong\n",
    "\n",
    "# def computePerformance(predictedLabels, actualLabels):\n",
    "#     yhats = predictedLabels\n",
    "#     accuracy = np.mean(yhats == actualLabels)\n",
    "#     tp = np.sum([yhats[i] == actualLabels[i] and yhats[i] == 1 for i in range(len(yhats))])\n",
    "#     precision = tp / np.sum([yhats[i] == 1 for i in range(len(yhats))])\n",
    "#     recall = tp / (np.sum([yhats[i] != actualLabels[i] and yhats[i] == 0 for i in range(len(yhats))]) + tp)\n",
    "#     f1 = 2 * (precision * recall) / (precision + recall)\n",
    "#     return accuracy, f1, precision, recall\n",
    "\n",
    "def getPerformance(gaussianSpeech, gaussianMusic, speechTest, musicTest):\n",
    "    predictedLabels = []\n",
    "    actualLabels = []\n",
    "    correct = 0\n",
    "    #assume 1 is speech, 0 is music\n",
    "    for speech in speechTest:\n",
    "        scoreSpeech = gaussianSpeech.score(speech)\n",
    "        scoreMusic = gaussianMusic.score(speech)\n",
    "        if scoreSpeech > scoreMusic:\n",
    "            correct += 1\n",
    "            predictedLabels.append(1) #speech\n",
    "        else:\n",
    "            predictedLabels.append(0) #music\n",
    "        actualLabels.append(1)\n",
    "    for music in musicTest:\n",
    "        scoreSpeech = gaussianSpeech.score(music)\n",
    "        scoreMusic = gaussianMusic.score(music)\n",
    "        if scoreSpeech < scoreMusic:\n",
    "            correct += 1\n",
    "            predictedLabels.append(0) #music\n",
    "        else:\n",
    "            predictedLabels.append(1) #speech\n",
    "        actualLabels.append(0)\n",
    "    print(predictedLabels)\n",
    "    print(actualLabels)\n",
    "    accuracy = np.mean(predictedLabels == actualLabels)\n",
    "    testSize = len(speechTest) + len(musicTest)\n",
    "    accuracy2 = correct/testSize\n",
    "    print(\"accuracy \", accuracy)\n",
    "    print(\"accuracy2 \", accuracy2)\n",
    "#     accuracy, f1, precision, recall = computePerformance(predictedLabels, actualLabels)\n",
    "#     return accuracy, f1, precision, recall\n",
    "    return accuracy\n",
    "# raise NotImplementedError()"
   ]
  },
  {
   "cell_type": "code",
   "execution_count": 73,
   "metadata": {},
   "outputs": [],
   "source": [
    "dft_size = 1024\n",
    "hop_size = 256\n",
    "zero_pad = 0\n",
    "window = sg.hann(dft_size)\n",
    "\n",
    "dataDir = \"data/SpeechMusic/\"\n",
    "musicDir = dataDir+\"music/\"\n",
    "speechDir = dataDir+\"speech/\"\n",
    "\n",
    "\n",
    "\n",
    "def runTrial(musicDir, speechDir, dft_size, hop_size, zero_pad, window, random = True):\n",
    "    print(\"loading files\")\n",
    "    audioDataMusic, rateMusic = loadDir(musicDir)\n",
    "    audioDataSpeech, rateSpeech = loadDir(speechDir)\n",
    "    print(\"--- loading files complete ---\")\n",
    "\n",
    "    print(\"performing STFT\")\n",
    "    stftMusic = getSTFT(audioDataMusic)\n",
    "    stftSpeech = getSTFT(audioDataSpeech)\n",
    "    print(\"--- STFT complete ---\")\n",
    "\n",
    "\n",
    "    print(\"split data\")\n",
    "    if random:\n",
    "        speechTrain, speechTest, musicTrain, musicTest = train_test_split( stftSpeech, stftMusic, train_size=50, test_size=10)\n",
    "    else:\n",
    "        speechTrain, speechTest, musicTrain, musicTest = train_test_split( stftSpeech, stftMusic, train_size=50, test_size=10, random_state=32)\n",
    "    speechTrain = np.concatenate(np.array(speechTrain), axis=0)\n",
    "    musicTrain = np.concatenate(np.array(musicTrain), axis=0)\n",
    "    print(len(speechTrain))\n",
    "    print(len(speechTest))\n",
    "    print(len(musicTrain))\n",
    "    print(len(musicTest))\n",
    "    print(\"---- data split complete ---- \")\n",
    "\n",
    "\n",
    "    #create and fit Gaussian models\n",
    "    print(\"fit Speech model\")\n",
    "    gaussianSpeech = GaussianMixture(5, \"diag\",verbose=1)\n",
    "    gaussianSpeech = gaussianSpeech.fit(speechTrain)\n",
    "    print(\"---- Speech model fitted ---- \")\n",
    "\n",
    "    print(\"fit Music model\")\n",
    "    gaussianMusic = GaussianMixture(5, \"diag\",verbose=1)\n",
    "    gaussianMusic = gaussianMusic.fit(musicTrain)\n",
    "    print(\"---- Music model fitted ---- \")\n",
    "\n",
    "\n",
    "\n",
    "    #get performance\n",
    "    print(\"calculating performance\")\n",
    "#     accuracy, f1, precision, recall = getPerformance(gaussianSpeech, gaussianMusic, speechTest, musicTest)\n",
    "    accuracy = getPerformance(gaussianSpeech, gaussianMusic, speechTest, musicTest)\n",
    "    print(\"---- performance calculated -----\")\n",
    "\n",
    "    print(\"results:\")\n",
    "    print(\"accuracy: \", accuracy)\n",
    "    print(\"f1: \", f1)\n",
    "    print(\"precision: \", precision)\n",
    "    print(\"recall: \", recall)\n"
   ]
  },
  {
   "cell_type": "code",
   "execution_count": 74,
   "metadata": {},
   "outputs": [
    {
     "name": "stdout",
     "output_type": "stream",
     "text": [
      "loading files\n"
     ]
    },
    {
     "name": "stderr",
     "output_type": "stream",
     "text": [
      "100%|████████████████████████████████████████████████████████████████████████████████| 60/60 [00:00<00:00, 1276.61it/s]\n",
      "100%|████████████████████████████████████████████████████████████████████████████████| 60/60 [00:00<00:00, 1621.61it/s]\n"
     ]
    },
    {
     "name": "stdout",
     "output_type": "stream",
     "text": [
      "--- loading files complete ---\n",
      "performing STFT\n"
     ]
    },
    {
     "name": "stderr",
     "output_type": "stream",
     "text": [
      "100%|██████████████████████████████████████████████████████████████████████████████████| 60/60 [00:03<00:00, 16.06it/s]\n",
      "100%|██████████████████████████████████████████████████████████████████████████████████| 60/60 [00:03<00:00, 15.64it/s]\n"
     ]
    },
    {
     "name": "stdout",
     "output_type": "stream",
     "text": [
      "--- STFT complete ---\n",
      "split data\n",
      "25650\n",
      "10\n",
      "25650\n",
      "10\n",
      "---- data split complete ---- \n",
      "fit Speech model\n"
     ]
    },
    {
     "name": "stderr",
     "output_type": "stream",
     "text": [
      "C:\\Users\\User\\Anaconda3\\lib\\site-packages\\sklearn\\utils\\validation.py:67: FutureWarning: Pass covariance_type=diag as keyword args. From version 0.25 passing these as positional arguments will result in an error\n",
      "  warnings.warn(\"Pass {} as keyword args. From version 0.25 \"\n"
     ]
    },
    {
     "name": "stdout",
     "output_type": "stream",
     "text": [
      "Initialization 0\n",
      "  Iteration 10\n",
      "  Iteration 20\n",
      "  Iteration 30\n",
      "Initialization converged: True\n",
      "---- Speech model fitted ---- \n",
      "fit Music model\n"
     ]
    },
    {
     "name": "stderr",
     "output_type": "stream",
     "text": [
      "C:\\Users\\User\\Anaconda3\\lib\\site-packages\\sklearn\\utils\\validation.py:67: FutureWarning: Pass covariance_type=diag as keyword args. From version 0.25 passing these as positional arguments will result in an error\n",
      "  warnings.warn(\"Pass {} as keyword args. From version 0.25 \"\n"
     ]
    },
    {
     "name": "stdout",
     "output_type": "stream",
     "text": [
      "Initialization 0\n",
      "  Iteration 10\n",
      "  Iteration 20\n",
      "  Iteration 30\n",
      "  Iteration 40\n",
      "  Iteration 50\n",
      "Initialization converged: True\n",
      "---- Music model fitted ---- \n",
      "calculating performance\n",
      "[1, 1, 1, 1, 1, 1, 1, 1, 0, 1, 1, 0, 0, 0, 0, 0, 0, 0, 0, 0]\n",
      "[1, 1, 1, 1, 1, 1, 1, 1, 1, 1, 0, 0, 0, 0, 0, 0, 0, 0, 0, 0]\n",
      "accuracy  0.0\n",
      "accuracy2  0.9\n",
      "---- performance calculated -----\n",
      "results:\n",
      "accuracy:  0.0\n"
     ]
    },
    {
     "ename": "NameError",
     "evalue": "name 'f1' is not defined",
     "output_type": "error",
     "traceback": [
      "\u001b[1;31m---------------------------------------------------------------------------\u001b[0m",
      "\u001b[1;31mNameError\u001b[0m                                 Traceback (most recent call last)",
      "\u001b[1;32m<ipython-input-74-4a70d3596dd1>\u001b[0m in \u001b[0;36m<module>\u001b[1;34m\u001b[0m\n\u001b[0;32m      1\u001b[0m \u001b[1;31m#this is an example run, because\u001b[0m\u001b[1;33m\u001b[0m\u001b[1;33m\u001b[0m\u001b[1;33m\u001b[0m\u001b[0m\n\u001b[0;32m      2\u001b[0m \u001b[1;33m\u001b[0m\u001b[0m\n\u001b[1;32m----> 3\u001b[1;33m \u001b[0mrunTrial\u001b[0m\u001b[1;33m(\u001b[0m\u001b[0mmusicDir\u001b[0m\u001b[1;33m,\u001b[0m \u001b[0mspeechDir\u001b[0m\u001b[1;33m,\u001b[0m \u001b[0mdft_size\u001b[0m\u001b[1;33m,\u001b[0m \u001b[0mhop_size\u001b[0m\u001b[1;33m,\u001b[0m \u001b[0mzero_pad\u001b[0m\u001b[1;33m,\u001b[0m \u001b[0mwindow\u001b[0m\u001b[1;33m,\u001b[0m\u001b[0mrandom\u001b[0m\u001b[1;33m=\u001b[0m\u001b[1;32mFalse\u001b[0m\u001b[1;33m)\u001b[0m\u001b[1;33m\u001b[0m\u001b[1;33m\u001b[0m\u001b[0m\n\u001b[0m",
      "\u001b[1;32m<ipython-input-73-b6818e1d1366>\u001b[0m in \u001b[0;36mrunTrial\u001b[1;34m(musicDir, speechDir, dft_size, hop_size, zero_pad, window, random)\u001b[0m\n\u001b[0;32m     57\u001b[0m     \u001b[0mprint\u001b[0m\u001b[1;33m(\u001b[0m\u001b[1;34m\"results:\"\u001b[0m\u001b[1;33m)\u001b[0m\u001b[1;33m\u001b[0m\u001b[1;33m\u001b[0m\u001b[0m\n\u001b[0;32m     58\u001b[0m     \u001b[0mprint\u001b[0m\u001b[1;33m(\u001b[0m\u001b[1;34m\"accuracy: \"\u001b[0m\u001b[1;33m,\u001b[0m \u001b[0maccuracy\u001b[0m\u001b[1;33m)\u001b[0m\u001b[1;33m\u001b[0m\u001b[1;33m\u001b[0m\u001b[0m\n\u001b[1;32m---> 59\u001b[1;33m     \u001b[0mprint\u001b[0m\u001b[1;33m(\u001b[0m\u001b[1;34m\"f1: \"\u001b[0m\u001b[1;33m,\u001b[0m \u001b[0mf1\u001b[0m\u001b[1;33m)\u001b[0m\u001b[1;33m\u001b[0m\u001b[1;33m\u001b[0m\u001b[0m\n\u001b[0m\u001b[0;32m     60\u001b[0m     \u001b[0mprint\u001b[0m\u001b[1;33m(\u001b[0m\u001b[1;34m\"precision: \"\u001b[0m\u001b[1;33m,\u001b[0m \u001b[0mprecision\u001b[0m\u001b[1;33m)\u001b[0m\u001b[1;33m\u001b[0m\u001b[1;33m\u001b[0m\u001b[0m\n\u001b[0;32m     61\u001b[0m     \u001b[0mprint\u001b[0m\u001b[1;33m(\u001b[0m\u001b[1;34m\"recall: \"\u001b[0m\u001b[1;33m,\u001b[0m \u001b[0mrecall\u001b[0m\u001b[1;33m)\u001b[0m\u001b[1;33m\u001b[0m\u001b[1;33m\u001b[0m\u001b[0m\n",
      "\u001b[1;31mNameError\u001b[0m: name 'f1' is not defined"
     ]
    }
   ],
   "source": [
    "#this is an example run, because\n",
    "\n",
    "runTrial(musicDir, speechDir, dft_size, hop_size, zero_pad, window,random=False)"
   ]
  },
  {
   "cell_type": "code",
   "execution_count": 61,
   "metadata": {},
   "outputs": [
    {
     "name": "stdout",
     "output_type": "stream",
     "text": [
      "loading files\n"
     ]
    },
    {
     "name": "stderr",
     "output_type": "stream",
     "text": [
      "100%|████████████████████████████████████████████████████████████████████████████████| 60/60 [00:00<00:00, 1875.15it/s]\n",
      "100%|████████████████████████████████████████████████████████████████████████████████| 60/60 [00:00<00:00, 1935.56it/s]\n"
     ]
    },
    {
     "name": "stdout",
     "output_type": "stream",
     "text": [
      "--- loading files complete ---\n",
      "performing STFT\n"
     ]
    },
    {
     "name": "stderr",
     "output_type": "stream",
     "text": [
      "100%|██████████████████████████████████████████████████████████████████████████████████| 60/60 [00:03<00:00, 15.29it/s]\n",
      "100%|██████████████████████████████████████████████████████████████████████████████████| 60/60 [00:03<00:00, 15.78it/s]\n"
     ]
    },
    {
     "name": "stdout",
     "output_type": "stream",
     "text": [
      "--- STFT complete ---\n",
      "split data\n",
      "---- data split complete ---- \n",
      "fit Speech model\n"
     ]
    },
    {
     "name": "stderr",
     "output_type": "stream",
     "text": [
      "C:\\Users\\User\\Anaconda3\\lib\\site-packages\\sklearn\\utils\\validation.py:67: FutureWarning: Pass covariance_type=diag as keyword args. From version 0.25 passing these as positional arguments will result in an error\n",
      "  warnings.warn(\"Pass {} as keyword args. From version 0.25 \"\n"
     ]
    },
    {
     "name": "stdout",
     "output_type": "stream",
     "text": [
      "Initialization 0\n",
      "  Iteration 10\n",
      "  Iteration 20\n",
      "  Iteration 30\n",
      "Initialization converged: True\n",
      "---- Speech model fitted ---- \n",
      "fit Music model\n"
     ]
    },
    {
     "name": "stderr",
     "output_type": "stream",
     "text": [
      "C:\\Users\\User\\Anaconda3\\lib\\site-packages\\sklearn\\utils\\validation.py:67: FutureWarning: Pass covariance_type=diag as keyword args. From version 0.25 passing these as positional arguments will result in an error\n",
      "  warnings.warn(\"Pass {} as keyword args. From version 0.25 \"\n"
     ]
    },
    {
     "name": "stdout",
     "output_type": "stream",
     "text": [
      "Initialization 0\n",
      "  Iteration 10\n",
      "  Iteration 20\n",
      "  Iteration 30\n",
      "  Iteration 40\n",
      "  Iteration 50\n",
      "  Iteration 60\n",
      "  Iteration 70\n",
      "  Iteration 80\n",
      "  Iteration 90\n",
      "Initialization converged: True\n",
      "---- Music model fitted ---- \n",
      "calculating performance\n",
      "---- performance calculated -----\n",
      "results:\n",
      "accuracy:  1.0\n",
      "f1:  1.0\n",
      "precision:  1.0\n",
      "recall:  1.0\n",
      "loading files\n"
     ]
    },
    {
     "name": "stderr",
     "output_type": "stream",
     "text": [
      "100%|████████████████████████████████████████████████████████████████████████████████| 60/60 [00:00<00:00, 1621.57it/s]\n",
      "100%|████████████████████████████████████████████████████████████████████████████████| 60/60 [00:00<00:00, 1714.39it/s]\n"
     ]
    },
    {
     "name": "stdout",
     "output_type": "stream",
     "text": [
      "--- loading files complete ---\n",
      "performing STFT\n"
     ]
    },
    {
     "name": "stderr",
     "output_type": "stream",
     "text": [
      "100%|██████████████████████████████████████████████████████████████████████████████████| 60/60 [00:03<00:00, 15.36it/s]\n",
      "100%|██████████████████████████████████████████████████████████████████████████████████| 60/60 [00:03<00:00, 15.61it/s]\n"
     ]
    },
    {
     "name": "stdout",
     "output_type": "stream",
     "text": [
      "--- STFT complete ---\n",
      "split data\n",
      "---- data split complete ---- \n",
      "fit Speech model\n"
     ]
    },
    {
     "name": "stderr",
     "output_type": "stream",
     "text": [
      "C:\\Users\\User\\Anaconda3\\lib\\site-packages\\sklearn\\utils\\validation.py:67: FutureWarning: Pass covariance_type=diag as keyword args. From version 0.25 passing these as positional arguments will result in an error\n",
      "  warnings.warn(\"Pass {} as keyword args. From version 0.25 \"\n"
     ]
    },
    {
     "name": "stdout",
     "output_type": "stream",
     "text": [
      "Initialization 0\n",
      "  Iteration 10\n",
      "  Iteration 20\n",
      "  Iteration 30\n",
      "Initialization converged: True\n",
      "---- Speech model fitted ---- \n",
      "fit Music model\n"
     ]
    },
    {
     "name": "stderr",
     "output_type": "stream",
     "text": [
      "C:\\Users\\User\\Anaconda3\\lib\\site-packages\\sklearn\\utils\\validation.py:67: FutureWarning: Pass covariance_type=diag as keyword args. From version 0.25 passing these as positional arguments will result in an error\n",
      "  warnings.warn(\"Pass {} as keyword args. From version 0.25 \"\n"
     ]
    },
    {
     "name": "stdout",
     "output_type": "stream",
     "text": [
      "Initialization 0\n",
      "  Iteration 10\n",
      "  Iteration 20\n",
      "  Iteration 30\n",
      "  Iteration 40\n",
      "  Iteration 50\n",
      "  Iteration 60\n",
      "Initialization converged: True\n",
      "---- Music model fitted ---- \n",
      "calculating performance\n",
      "---- performance calculated -----\n",
      "results:\n",
      "accuracy:  0.0\n",
      "f1:  0.8000000000000002\n",
      "precision:  0.8\n",
      "recall:  0.8\n",
      "loading files\n"
     ]
    },
    {
     "name": "stderr",
     "output_type": "stream",
     "text": [
      "100%|████████████████████████████████████████████████████████████████████████████████| 60/60 [00:00<00:00, 1200.04it/s]\n",
      "100%|████████████████████████████████████████████████████████████████████████████████| 60/60 [00:00<00:00, 1500.06it/s]\n"
     ]
    },
    {
     "name": "stdout",
     "output_type": "stream",
     "text": [
      "--- loading files complete ---\n",
      "performing STFT\n"
     ]
    },
    {
     "name": "stderr",
     "output_type": "stream",
     "text": [
      "100%|██████████████████████████████████████████████████████████████████████████████████| 60/60 [00:03<00:00, 15.94it/s]\n",
      "100%|██████████████████████████████████████████████████████████████████████████████████| 60/60 [00:03<00:00, 15.75it/s]\n"
     ]
    },
    {
     "name": "stdout",
     "output_type": "stream",
     "text": [
      "--- STFT complete ---\n",
      "split data\n",
      "---- data split complete ---- \n",
      "fit Speech model\n"
     ]
    },
    {
     "name": "stderr",
     "output_type": "stream",
     "text": [
      "C:\\Users\\User\\Anaconda3\\lib\\site-packages\\sklearn\\utils\\validation.py:67: FutureWarning: Pass covariance_type=diag as keyword args. From version 0.25 passing these as positional arguments will result in an error\n",
      "  warnings.warn(\"Pass {} as keyword args. From version 0.25 \"\n"
     ]
    },
    {
     "name": "stdout",
     "output_type": "stream",
     "text": [
      "Initialization 0\n",
      "  Iteration 10\n",
      "  Iteration 20\n",
      "  Iteration 30\n",
      "  Iteration 40\n",
      "Initialization converged: True\n",
      "---- Speech model fitted ---- \n",
      "fit Music model\n"
     ]
    },
    {
     "name": "stderr",
     "output_type": "stream",
     "text": [
      "C:\\Users\\User\\Anaconda3\\lib\\site-packages\\sklearn\\utils\\validation.py:67: FutureWarning: Pass covariance_type=diag as keyword args. From version 0.25 passing these as positional arguments will result in an error\n",
      "  warnings.warn(\"Pass {} as keyword args. From version 0.25 \"\n"
     ]
    },
    {
     "name": "stdout",
     "output_type": "stream",
     "text": [
      "Initialization 0\n",
      "  Iteration 10\n",
      "  Iteration 20\n",
      "  Iteration 30\n",
      "  Iteration 40\n",
      "  Iteration 50\n",
      "  Iteration 60\n",
      "Initialization converged: True\n",
      "---- Music model fitted ---- \n",
      "calculating performance\n",
      "---- performance calculated -----\n",
      "results:\n",
      "accuracy:  0.0\n",
      "f1:  0.9523809523809523\n",
      "precision:  0.9090909090909091\n",
      "recall:  1.0\n",
      "loading files\n"
     ]
    },
    {
     "name": "stderr",
     "output_type": "stream",
     "text": [
      "100%|████████████████████████████████████████████████████████████████████████████████| 60/60 [00:00<00:00, 1621.50it/s]\n",
      "100%|████████████████████████████████████████████████████████████████████████████████| 60/60 [00:00<00:00, 1714.36it/s]\n"
     ]
    },
    {
     "name": "stdout",
     "output_type": "stream",
     "text": [
      "--- loading files complete ---\n",
      "performing STFT\n"
     ]
    },
    {
     "name": "stderr",
     "output_type": "stream",
     "text": [
      "100%|██████████████████████████████████████████████████████████████████████████████████| 60/60 [00:03<00:00, 15.85it/s]\n",
      "100%|██████████████████████████████████████████████████████████████████████████████████| 60/60 [00:03<00:00, 16.20it/s]\n"
     ]
    },
    {
     "name": "stdout",
     "output_type": "stream",
     "text": [
      "--- STFT complete ---\n",
      "split data\n",
      "---- data split complete ---- \n",
      "fit Speech model\n"
     ]
    },
    {
     "name": "stderr",
     "output_type": "stream",
     "text": [
      "C:\\Users\\User\\Anaconda3\\lib\\site-packages\\sklearn\\utils\\validation.py:67: FutureWarning: Pass covariance_type=diag as keyword args. From version 0.25 passing these as positional arguments will result in an error\n",
      "  warnings.warn(\"Pass {} as keyword args. From version 0.25 \"\n"
     ]
    },
    {
     "name": "stdout",
     "output_type": "stream",
     "text": [
      "Initialization 0\n",
      "  Iteration 10\n",
      "  Iteration 20\n",
      "  Iteration 30\n",
      "Initialization converged: True\n",
      "---- Speech model fitted ---- \n",
      "fit Music model\n"
     ]
    },
    {
     "name": "stderr",
     "output_type": "stream",
     "text": [
      "C:\\Users\\User\\Anaconda3\\lib\\site-packages\\sklearn\\utils\\validation.py:67: FutureWarning: Pass covariance_type=diag as keyword args. From version 0.25 passing these as positional arguments will result in an error\n",
      "  warnings.warn(\"Pass {} as keyword args. From version 0.25 \"\n"
     ]
    },
    {
     "name": "stdout",
     "output_type": "stream",
     "text": [
      "Initialization 0\n",
      "  Iteration 10\n",
      "  Iteration 20\n",
      "  Iteration 30\n",
      "  Iteration 40\n",
      "  Iteration 50\n",
      "  Iteration 60\n",
      "  Iteration 70\n",
      "Initialization converged: True\n",
      "---- Music model fitted ---- \n",
      "calculating performance\n",
      "---- performance calculated -----\n",
      "results:\n",
      "accuracy:  1.0\n",
      "f1:  1.0\n",
      "precision:  1.0\n",
      "recall:  1.0\n",
      "loading files\n"
     ]
    },
    {
     "name": "stderr",
     "output_type": "stream",
     "text": [
      "100%|████████████████████████████████████████████████████████████████████████████████| 60/60 [00:00<00:00, 1463.46it/s]\n",
      "100%|████████████████████████████████████████████████████████████████████████████████| 60/60 [00:00<00:00, 1764.80it/s]\n"
     ]
    },
    {
     "name": "stdout",
     "output_type": "stream",
     "text": [
      "--- loading files complete ---\n",
      "performing STFT\n"
     ]
    },
    {
     "name": "stderr",
     "output_type": "stream",
     "text": [
      "100%|██████████████████████████████████████████████████████████████████████████████████| 60/60 [00:03<00:00, 15.62it/s]\n",
      "100%|██████████████████████████████████████████████████████████████████████████████████| 60/60 [00:03<00:00, 15.57it/s]\n"
     ]
    },
    {
     "name": "stdout",
     "output_type": "stream",
     "text": [
      "--- STFT complete ---\n",
      "split data\n",
      "---- data split complete ---- \n",
      "fit Speech model\n"
     ]
    },
    {
     "name": "stderr",
     "output_type": "stream",
     "text": [
      "C:\\Users\\User\\Anaconda3\\lib\\site-packages\\sklearn\\utils\\validation.py:67: FutureWarning: Pass covariance_type=diag as keyword args. From version 0.25 passing these as positional arguments will result in an error\n",
      "  warnings.warn(\"Pass {} as keyword args. From version 0.25 \"\n"
     ]
    },
    {
     "name": "stdout",
     "output_type": "stream",
     "text": [
      "Initialization 0\n",
      "  Iteration 10\n",
      "  Iteration 20\n",
      "  Iteration 30\n",
      "Initialization converged: True\n",
      "---- Speech model fitted ---- \n",
      "fit Music model\n"
     ]
    },
    {
     "name": "stderr",
     "output_type": "stream",
     "text": [
      "C:\\Users\\User\\Anaconda3\\lib\\site-packages\\sklearn\\utils\\validation.py:67: FutureWarning: Pass covariance_type=diag as keyword args. From version 0.25 passing these as positional arguments will result in an error\n",
      "  warnings.warn(\"Pass {} as keyword args. From version 0.25 \"\n"
     ]
    },
    {
     "name": "stdout",
     "output_type": "stream",
     "text": [
      "Initialization 0\n"
     ]
    },
    {
     "ename": "KeyboardInterrupt",
     "evalue": "",
     "output_type": "error",
     "traceback": [
      "\u001b[1;31m---------------------------------------------------------------------------\u001b[0m",
      "\u001b[1;31mKeyboardInterrupt\u001b[0m                         Traceback (most recent call last)",
      "\u001b[1;32m<ipython-input-61-e9040114fc91>\u001b[0m in \u001b[0;36m<module>\u001b[1;34m\u001b[0m\n\u001b[0;32m      1\u001b[0m \u001b[1;32mfor\u001b[0m \u001b[0mi\u001b[0m \u001b[1;32min\u001b[0m \u001b[0mrange\u001b[0m\u001b[1;33m(\u001b[0m\u001b[1;36m10\u001b[0m\u001b[1;33m)\u001b[0m\u001b[1;33m:\u001b[0m\u001b[1;33m\u001b[0m\u001b[1;33m\u001b[0m\u001b[0m\n\u001b[1;32m----> 2\u001b[1;33m     \u001b[0mrunTrial\u001b[0m\u001b[1;33m(\u001b[0m\u001b[0mmusicDir\u001b[0m\u001b[1;33m,\u001b[0m \u001b[0mspeechDir\u001b[0m\u001b[1;33m,\u001b[0m \u001b[0mdft_size\u001b[0m\u001b[1;33m,\u001b[0m \u001b[0mhop_size\u001b[0m\u001b[1;33m,\u001b[0m \u001b[0mzero_pad\u001b[0m\u001b[1;33m,\u001b[0m \u001b[0mwindow\u001b[0m\u001b[1;33m)\u001b[0m\u001b[1;33m\u001b[0m\u001b[1;33m\u001b[0m\u001b[0m\n\u001b[0m",
      "\u001b[1;32m<ipython-input-60-a1a27aac86f2>\u001b[0m in \u001b[0;36mrunTrial\u001b[1;34m(musicDir, speechDir, dft_size, hop_size, zero_pad, window, random)\u001b[0m\n\u001b[0;32m     40\u001b[0m     \u001b[0mprint\u001b[0m\u001b[1;33m(\u001b[0m\u001b[1;34m\"fit Music model\"\u001b[0m\u001b[1;33m)\u001b[0m\u001b[1;33m\u001b[0m\u001b[1;33m\u001b[0m\u001b[0m\n\u001b[0;32m     41\u001b[0m     \u001b[0mgaussianMusic\u001b[0m \u001b[1;33m=\u001b[0m \u001b[0mGaussianMixture\u001b[0m\u001b[1;33m(\u001b[0m\u001b[1;36m5\u001b[0m\u001b[1;33m,\u001b[0m \u001b[1;34m\"diag\"\u001b[0m\u001b[1;33m,\u001b[0m\u001b[0mverbose\u001b[0m\u001b[1;33m=\u001b[0m\u001b[1;36m1\u001b[0m\u001b[1;33m)\u001b[0m\u001b[1;33m\u001b[0m\u001b[1;33m\u001b[0m\u001b[0m\n\u001b[1;32m---> 42\u001b[1;33m     \u001b[0mgaussianMusic\u001b[0m \u001b[1;33m=\u001b[0m \u001b[0mgaussianMusic\u001b[0m\u001b[1;33m.\u001b[0m\u001b[0mfit\u001b[0m\u001b[1;33m(\u001b[0m\u001b[0mmusicTrain\u001b[0m\u001b[1;33m)\u001b[0m\u001b[1;33m\u001b[0m\u001b[1;33m\u001b[0m\u001b[0m\n\u001b[0m\u001b[0;32m     43\u001b[0m     \u001b[0mprint\u001b[0m\u001b[1;33m(\u001b[0m\u001b[1;34m\"---- Music model fitted ---- \"\u001b[0m\u001b[1;33m)\u001b[0m\u001b[1;33m\u001b[0m\u001b[1;33m\u001b[0m\u001b[0m\n\u001b[0;32m     44\u001b[0m \u001b[1;33m\u001b[0m\u001b[0m\n",
      "\u001b[1;32m~\\Anaconda3\\lib\\site-packages\\sklearn\\mixture\\_base.py\u001b[0m in \u001b[0;36mfit\u001b[1;34m(self, X, y)\u001b[0m\n\u001b[0;32m    191\u001b[0m         \u001b[0mself\u001b[0m\u001b[1;33m\u001b[0m\u001b[1;33m\u001b[0m\u001b[0m\n\u001b[0;32m    192\u001b[0m         \"\"\"\n\u001b[1;32m--> 193\u001b[1;33m         \u001b[0mself\u001b[0m\u001b[1;33m.\u001b[0m\u001b[0mfit_predict\u001b[0m\u001b[1;33m(\u001b[0m\u001b[0mX\u001b[0m\u001b[1;33m,\u001b[0m \u001b[0my\u001b[0m\u001b[1;33m)\u001b[0m\u001b[1;33m\u001b[0m\u001b[1;33m\u001b[0m\u001b[0m\n\u001b[0m\u001b[0;32m    194\u001b[0m         \u001b[1;32mreturn\u001b[0m \u001b[0mself\u001b[0m\u001b[1;33m\u001b[0m\u001b[1;33m\u001b[0m\u001b[0m\n\u001b[0;32m    195\u001b[0m \u001b[1;33m\u001b[0m\u001b[0m\n",
      "\u001b[1;32m~\\Anaconda3\\lib\\site-packages\\sklearn\\mixture\\_base.py\u001b[0m in \u001b[0;36mfit_predict\u001b[1;34m(self, X, y)\u001b[0m\n\u001b[0;32m    236\u001b[0m \u001b[1;33m\u001b[0m\u001b[0m\n\u001b[0;32m    237\u001b[0m             \u001b[1;32mif\u001b[0m \u001b[0mdo_init\u001b[0m\u001b[1;33m:\u001b[0m\u001b[1;33m\u001b[0m\u001b[1;33m\u001b[0m\u001b[0m\n\u001b[1;32m--> 238\u001b[1;33m                 \u001b[0mself\u001b[0m\u001b[1;33m.\u001b[0m\u001b[0m_initialize_parameters\u001b[0m\u001b[1;33m(\u001b[0m\u001b[0mX\u001b[0m\u001b[1;33m,\u001b[0m \u001b[0mrandom_state\u001b[0m\u001b[1;33m)\u001b[0m\u001b[1;33m\u001b[0m\u001b[1;33m\u001b[0m\u001b[0m\n\u001b[0m\u001b[0;32m    239\u001b[0m \u001b[1;33m\u001b[0m\u001b[0m\n\u001b[0;32m    240\u001b[0m             \u001b[0mlower_bound\u001b[0m \u001b[1;33m=\u001b[0m \u001b[1;33m(\u001b[0m\u001b[1;33m-\u001b[0m\u001b[0mnp\u001b[0m\u001b[1;33m.\u001b[0m\u001b[0minfty\u001b[0m \u001b[1;32mif\u001b[0m \u001b[0mdo_init\u001b[0m \u001b[1;32melse\u001b[0m \u001b[0mself\u001b[0m\u001b[1;33m.\u001b[0m\u001b[0mlower_bound_\u001b[0m\u001b[1;33m)\u001b[0m\u001b[1;33m\u001b[0m\u001b[1;33m\u001b[0m\u001b[0m\n",
      "\u001b[1;32m~\\Anaconda3\\lib\\site-packages\\sklearn\\mixture\\_base.py\u001b[0m in \u001b[0;36m_initialize_parameters\u001b[1;34m(self, X, random_state)\u001b[0m\n\u001b[0;32m    155\u001b[0m                              % self.init_params)\n\u001b[0;32m    156\u001b[0m \u001b[1;33m\u001b[0m\u001b[0m\n\u001b[1;32m--> 157\u001b[1;33m         \u001b[0mself\u001b[0m\u001b[1;33m.\u001b[0m\u001b[0m_initialize\u001b[0m\u001b[1;33m(\u001b[0m\u001b[0mX\u001b[0m\u001b[1;33m,\u001b[0m \u001b[0mresp\u001b[0m\u001b[1;33m)\u001b[0m\u001b[1;33m\u001b[0m\u001b[1;33m\u001b[0m\u001b[0m\n\u001b[0m\u001b[0;32m    158\u001b[0m \u001b[1;33m\u001b[0m\u001b[0m\n\u001b[0;32m    159\u001b[0m     \u001b[1;33m@\u001b[0m\u001b[0mabstractmethod\u001b[0m\u001b[1;33m\u001b[0m\u001b[1;33m\u001b[0m\u001b[0m\n",
      "\u001b[1;32m~\\Anaconda3\\lib\\site-packages\\sklearn\\mixture\\_gaussian_mixture.py\u001b[0m in \u001b[0;36m_initialize\u001b[1;34m(self, X, resp)\u001b[0m\n\u001b[0;32m    638\u001b[0m         \u001b[0mn_samples\u001b[0m\u001b[1;33m,\u001b[0m \u001b[0m_\u001b[0m \u001b[1;33m=\u001b[0m \u001b[0mX\u001b[0m\u001b[1;33m.\u001b[0m\u001b[0mshape\u001b[0m\u001b[1;33m\u001b[0m\u001b[1;33m\u001b[0m\u001b[0m\n\u001b[0;32m    639\u001b[0m \u001b[1;33m\u001b[0m\u001b[0m\n\u001b[1;32m--> 640\u001b[1;33m         weights, means, covariances = _estimate_gaussian_parameters(\n\u001b[0m\u001b[0;32m    641\u001b[0m             X, resp, self.reg_covar, self.covariance_type)\n\u001b[0;32m    642\u001b[0m         \u001b[0mweights\u001b[0m \u001b[1;33m/=\u001b[0m \u001b[0mn_samples\u001b[0m\u001b[1;33m\u001b[0m\u001b[1;33m\u001b[0m\u001b[0m\n",
      "\u001b[1;32m~\\Anaconda3\\lib\\site-packages\\sklearn\\mixture\\_gaussian_mixture.py\u001b[0m in \u001b[0;36m_estimate_gaussian_parameters\u001b[1;34m(X, resp, reg_covar, covariance_type)\u001b[0m\n\u001b[0;32m    278\u001b[0m     \u001b[0mnk\u001b[0m \u001b[1;33m=\u001b[0m \u001b[0mresp\u001b[0m\u001b[1;33m.\u001b[0m\u001b[0msum\u001b[0m\u001b[1;33m(\u001b[0m\u001b[0maxis\u001b[0m\u001b[1;33m=\u001b[0m\u001b[1;36m0\u001b[0m\u001b[1;33m)\u001b[0m \u001b[1;33m+\u001b[0m \u001b[1;36m10\u001b[0m \u001b[1;33m*\u001b[0m \u001b[0mnp\u001b[0m\u001b[1;33m.\u001b[0m\u001b[0mfinfo\u001b[0m\u001b[1;33m(\u001b[0m\u001b[0mresp\u001b[0m\u001b[1;33m.\u001b[0m\u001b[0mdtype\u001b[0m\u001b[1;33m)\u001b[0m\u001b[1;33m.\u001b[0m\u001b[0meps\u001b[0m\u001b[1;33m\u001b[0m\u001b[1;33m\u001b[0m\u001b[0m\n\u001b[0;32m    279\u001b[0m     \u001b[0mmeans\u001b[0m \u001b[1;33m=\u001b[0m \u001b[0mnp\u001b[0m\u001b[1;33m.\u001b[0m\u001b[0mdot\u001b[0m\u001b[1;33m(\u001b[0m\u001b[0mresp\u001b[0m\u001b[1;33m.\u001b[0m\u001b[0mT\u001b[0m\u001b[1;33m,\u001b[0m \u001b[0mX\u001b[0m\u001b[1;33m)\u001b[0m \u001b[1;33m/\u001b[0m \u001b[0mnk\u001b[0m\u001b[1;33m[\u001b[0m\u001b[1;33m:\u001b[0m\u001b[1;33m,\u001b[0m \u001b[0mnp\u001b[0m\u001b[1;33m.\u001b[0m\u001b[0mnewaxis\u001b[0m\u001b[1;33m]\u001b[0m\u001b[1;33m\u001b[0m\u001b[1;33m\u001b[0m\u001b[0m\n\u001b[1;32m--> 280\u001b[1;33m     covariances = {\"full\": _estimate_gaussian_covariances_full,\n\u001b[0m\u001b[0;32m    281\u001b[0m                    \u001b[1;34m\"tied\"\u001b[0m\u001b[1;33m:\u001b[0m \u001b[0m_estimate_gaussian_covariances_tied\u001b[0m\u001b[1;33m,\u001b[0m\u001b[1;33m\u001b[0m\u001b[1;33m\u001b[0m\u001b[0m\n\u001b[0;32m    282\u001b[0m                    \u001b[1;34m\"diag\"\u001b[0m\u001b[1;33m:\u001b[0m \u001b[0m_estimate_gaussian_covariances_diag\u001b[0m\u001b[1;33m,\u001b[0m\u001b[1;33m\u001b[0m\u001b[1;33m\u001b[0m\u001b[0m\n",
      "\u001b[1;32m~\\Anaconda3\\lib\\site-packages\\sklearn\\mixture\\_gaussian_mixture.py\u001b[0m in \u001b[0;36m_estimate_gaussian_covariances_diag\u001b[1;34m(resp, X, nk, means, reg_covar)\u001b[0m\n\u001b[0;32m    217\u001b[0m         \u001b[0mThe\u001b[0m \u001b[0mcovariance\u001b[0m \u001b[0mvector\u001b[0m \u001b[0mof\u001b[0m \u001b[0mthe\u001b[0m \u001b[0mcurrent\u001b[0m \u001b[0mcomponents\u001b[0m\u001b[1;33m.\u001b[0m\u001b[1;33m\u001b[0m\u001b[1;33m\u001b[0m\u001b[0m\n\u001b[0;32m    218\u001b[0m     \"\"\"\n\u001b[1;32m--> 219\u001b[1;33m     \u001b[0mavg_X2\u001b[0m \u001b[1;33m=\u001b[0m \u001b[0mnp\u001b[0m\u001b[1;33m.\u001b[0m\u001b[0mdot\u001b[0m\u001b[1;33m(\u001b[0m\u001b[0mresp\u001b[0m\u001b[1;33m.\u001b[0m\u001b[0mT\u001b[0m\u001b[1;33m,\u001b[0m \u001b[0mX\u001b[0m \u001b[1;33m*\u001b[0m \u001b[0mX\u001b[0m\u001b[1;33m)\u001b[0m \u001b[1;33m/\u001b[0m \u001b[0mnk\u001b[0m\u001b[1;33m[\u001b[0m\u001b[1;33m:\u001b[0m\u001b[1;33m,\u001b[0m \u001b[0mnp\u001b[0m\u001b[1;33m.\u001b[0m\u001b[0mnewaxis\u001b[0m\u001b[1;33m]\u001b[0m\u001b[1;33m\u001b[0m\u001b[1;33m\u001b[0m\u001b[0m\n\u001b[0m\u001b[0;32m    220\u001b[0m     \u001b[0mavg_means2\u001b[0m \u001b[1;33m=\u001b[0m \u001b[0mmeans\u001b[0m \u001b[1;33m**\u001b[0m \u001b[1;36m2\u001b[0m\u001b[1;33m\u001b[0m\u001b[1;33m\u001b[0m\u001b[0m\n\u001b[0;32m    221\u001b[0m     \u001b[0mavg_X_means\u001b[0m \u001b[1;33m=\u001b[0m \u001b[0mmeans\u001b[0m \u001b[1;33m*\u001b[0m \u001b[0mnp\u001b[0m\u001b[1;33m.\u001b[0m\u001b[0mdot\u001b[0m\u001b[1;33m(\u001b[0m\u001b[0mresp\u001b[0m\u001b[1;33m.\u001b[0m\u001b[0mT\u001b[0m\u001b[1;33m,\u001b[0m \u001b[0mX\u001b[0m\u001b[1;33m)\u001b[0m \u001b[1;33m/\u001b[0m \u001b[0mnk\u001b[0m\u001b[1;33m[\u001b[0m\u001b[1;33m:\u001b[0m\u001b[1;33m,\u001b[0m \u001b[0mnp\u001b[0m\u001b[1;33m.\u001b[0m\u001b[0mnewaxis\u001b[0m\u001b[1;33m]\u001b[0m\u001b[1;33m\u001b[0m\u001b[1;33m\u001b[0m\u001b[0m\n",
      "\u001b[1;31mKeyboardInterrupt\u001b[0m: "
     ]
    }
   ],
   "source": [
    "#warning, I recommend commenting out most of the prints if you want to run a bunch of trials, because it gets messy otherwise\n",
    "#sorry\n",
    "\n",
    "for i in range(10):\n",
    "    print(\"\\n\\n\\n--- Trial Number :\", i,\"--- \")\n",
    "    runTrial(musicDir, speechDir, dft_size, hop_size, zero_pad, window)"
   ]
  },
  {
   "cell_type": "markdown",
   "metadata": {},
   "source": [
    "## after running multiple trials, I found that accuracy varies from"
   ]
  },
  {
   "cell_type": "code",
   "execution_count": 52,
   "metadata": {},
   "outputs": [
    {
     "name": "stderr",
     "output_type": "stream",
     "text": [
      "C:\\Users\\User\\Anaconda3\\lib\\site-packages\\sklearn\\utils\\validation.py:67: FutureWarning: Pass covariance_type=diag as keyword args. From version 0.25 passing these as positional arguments will result in an error\n",
      "  warnings.warn(\"Pass {} as keyword args. From version 0.25 \"\n"
     ]
    },
    {
     "name": "stdout",
     "output_type": "stream",
     "text": [
      "Initialization 0\n",
      "  Iteration 10\n",
      "  Iteration 20\n",
      "  Iteration 30\n",
      "  Iteration 40\n",
      "  Iteration 50\n",
      "Initialization converged: True\n"
     ]
    }
   ],
   "source": []
  },
  {
   "cell_type": "code",
   "execution_count": 53,
   "metadata": {},
   "outputs": [
    {
     "name": "stderr",
     "output_type": "stream",
     "text": [
      "C:\\Users\\User\\Anaconda3\\lib\\site-packages\\sklearn\\utils\\validation.py:67: FutureWarning: Pass covariance_type=diag as keyword args. From version 0.25 passing these as positional arguments will result in an error\n",
      "  warnings.warn(\"Pass {} as keyword args. From version 0.25 \"\n"
     ]
    },
    {
     "name": "stdout",
     "output_type": "stream",
     "text": [
      "Initialization 0\n",
      "  Iteration 10\n",
      "  Iteration 20\n",
      "  Iteration 30\n",
      "  Iteration 40\n",
      "  Iteration 50\n",
      "Initialization converged: True\n"
     ]
    }
   ],
   "source": []
  },
  {
   "cell_type": "code",
   "execution_count": 54,
   "metadata": {},
   "outputs": [],
   "source": []
  },
  {
   "cell_type": "code",
   "execution_count": 55,
   "metadata": {},
   "outputs": [
    {
     "name": "stdout",
     "output_type": "stream",
     "text": [
      "Correct: 19 Test Size: 20 Accuracy: 0.95\n"
     ]
    }
   ],
   "source": [
    "print(\"Correct:\", correct)"
   ]
  },
  {
   "cell_type": "markdown",
   "metadata": {
    "deletable": false,
    "editable": false,
    "nbgrader": {
     "cell_type": "markdown",
     "checksum": "06bbd01450e6b4e79e1e797eed004eb9",
     "grade": false,
     "grade_id": "cell-ea09b70a28708831",
     "locked": true,
     "schema_version": 3,
     "solution": false,
     "task": false
    }
   },
   "source": [
    "## Part 2: Making a music genre classifier"
   ]
  },
  {
   "cell_type": "markdown",
   "metadata": {
    "deletable": false,
    "editable": false,
    "nbgrader": {
     "cell_type": "markdown",
     "checksum": "269037d2526644f0210bef91b148f92c",
     "grade": false,
     "grade_id": "cell-b577ec2dbb637ab9",
     "locked": true,
     "schema_version": 3,
     "solution": false,
     "task": false
    }
   },
   "source": [
    "We will repeat the above, but this time we will perform music genre classification. To do so we will use a slightly more elaborate feature representation, and a stronger classification model. If you downloaded the data archive pointed to above, you will find a subset of the CTZAN dataset in the data/genre folder, this is a benchmark data set for music genre classification.\n",
    "\n",
    "Just as before, you will find a set of directories with examples of each sound class that we want to recognize. For each class, split the soundfiles into a training set (50% of data) and testing set (remaining 50% of data).\n",
    "\n",
    "For a representation we will use MFCC features. For extra credit, code these yourself otherwise you can use the implementation from the ```librosa``` library. Once all the files are transformed we will have a series of MFCC frames for each recording (as opposed to spectral frames as is in the case of the STFT). We will use these as the data to classify.\n",
    "\n",
    "For each class learn a Gaussian model (with a diagonal covariance again). This will be the same process as above.\n",
    "In order to evaluate how good this works we will use the following procedure. For each sound in the training data, get the likelihood of each MFCC frame based on the learned Gaussian models and sum these over the entire file just as we did before. Use the resulting values to get a classification result for each . Report how accurate your results are. Now report the accuracy using your testing data instead.\n",
    "\n",
    "Now will use a better classifier to hopefully get better accuracy. We will use a Gaussian Mixture Model (```sklearn.mixture.GaussianMixture```). Just as before you should learn one such model for each class using the corresponding training data.\n",
    "\n",
    "How many Gaussians do you need in your GMM to get the best results? Do the MFCC parameters make a difference? Play around with the numbers to get the best possible results."
   ]
  },
  {
   "cell_type": "code",
   "execution_count": null,
   "metadata": {
    "deletable": false,
    "nbgrader": {
     "cell_type": "code",
     "checksum": "24f1bd9efdb18646cfb6372f1748c878",
     "grade": true,
     "grade_id": "cell-1f20306aee8e6f97",
     "locked": false,
     "points": 3,
     "schema_version": 3,
     "solution": true,
     "task": false
    }
   },
   "outputs": [],
   "source": [
    "# YOUR CODE HERE\n",
    "raise NotImplementedError()"
   ]
  },
  {
   "cell_type": "markdown",
   "metadata": {
    "deletable": false,
    "editable": false,
    "nbgrader": {
     "cell_type": "markdown",
     "checksum": "ed704c16a51ce2ee6a7765a36b0bcc1d",
     "grade": false,
     "grade_id": "cell-0366f48ef1511eb0",
     "locked": true,
     "schema_version": 3,
     "solution": false,
     "task": false
    }
   },
   "source": [
    "## Part 3: Make it better (extra credit, required for 4-hour registrants)"
   ]
  },
  {
   "cell_type": "markdown",
   "metadata": {
    "deletable": false,
    "editable": false,
    "nbgrader": {
     "cell_type": "markdown",
     "checksum": "b5c3fcfa38c9061e0c3c36080310de8f",
     "grade": false,
     "grade_id": "cell-ee7356244c540bcc",
     "locked": true,
     "schema_version": 3,
     "solution": false,
     "task": false
    }
   },
   "source": [
    "There is no shortage of techniques (and free code) to use for classification. Revisit the two problems above and use any other type of classifier you want (Neural Nets, Boosting, Decision Trees, whatever). Also feel free to use any feature you want. Can you improve on the results you got before? How much higher can you get your accuracy for either case?"
   ]
  },
  {
   "cell_type": "code",
   "execution_count": null,
   "metadata": {
    "deletable": false,
    "nbgrader": {
     "cell_type": "code",
     "checksum": "d6ce280f53f8d615656d2c91be53d297",
     "grade": true,
     "grade_id": "cell-b5bfb3525df0e1de",
     "locked": false,
     "points": 3,
     "schema_version": 3,
     "solution": true,
     "task": false
    }
   },
   "outputs": [],
   "source": [
    "# YOUR CODE HERE\n",
    "raise NotImplementedError()"
   ]
  }
 ],
 "metadata": {
  "kernelspec": {
   "display_name": "Python 3",
   "language": "python",
   "name": "python3"
  },
  "language_info": {
   "codemirror_mode": {
    "name": "ipython",
    "version": 3
   },
   "file_extension": ".py",
   "mimetype": "text/x-python",
   "name": "python",
   "nbconvert_exporter": "python",
   "pygments_lexer": "ipython3",
   "version": "3.8.5"
  },
  "nteract": {
   "version": "0.28.0"
  }
 },
 "nbformat": 4,
 "nbformat_minor": 2
}
