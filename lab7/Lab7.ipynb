{
 "cells": [
  {
   "cell_type": "markdown",
   "metadata": {},
   "source": [
    "# Lab 7: Pitch tracking and modifications"
   ]
  },
  {
   "cell_type": "markdown",
   "metadata": {
    "deletable": false,
    "editable": false,
    "nbgrader": {
     "cell_type": "markdown",
     "checksum": "9ccffaf56887875f456c26740d3084bc",
     "grade": false,
     "grade_id": "cell-a1f501bd7a476ae7",
     "locked": true,
     "schema_version": 3,
     "solution": false,
     "task": false
    }
   },
   "source": [
    "## Part 1: Making a pitch tracker"
   ]
  },
  {
   "cell_type": "markdown",
   "metadata": {
    "deletable": false,
    "editable": false,
    "nbgrader": {
     "cell_type": "markdown",
     "checksum": "3b9fb8661995d0e5f198497cc7f8541e",
     "grade": false,
     "grade_id": "cell-c90f3ef5908c005f",
     "locked": true,
     "schema_version": 3,
     "solution": false,
     "task": false
    }
   },
   "source": [
    "In this section we will design a pitch tracker. We will apply it on this sound file:\n",
    "\n",
    "[https://drive.google.com/uc?export=download&id=1gB1MlHQJiXRJRYAauWxdJDcRoYs8q0oM ]\n",
    "\n",
    "We want to find the pitch of the singing over time, as well as if the sound is pitched or not at any point in time. To do so we will design an autocorrelation pitch tracker.\n",
    "Do the following:\n",
    "1. Perform an STFT of the sound\n",
    "2. Using the DFT representation of each frame compute the frame’s autocorrelation\n",
    "3. Invert each frame’s autocorrelation back to the time domain\n",
    "4. Find the first peak after the main peak (which will be at the first element)\n",
    "    - We will only look for pitches between 100 and 300Hz\n",
    "\t- Which means that you only need to look for a peak at a specific range\n",
    "5. If the peak is more than 70% of the main peak we have a pitched frame\n",
    "\t- Otherwise it is an un-pitched frame\n",
    "Plot the pitch value over time and see if it correlates with what you are hearing (we also have the correct plot in the lecture slides).\n"
   ]
  },
  {
   "cell_type": "code",
   "execution_count": null,
   "metadata": {
    "deletable": false,
    "nbgrader": {
     "cell_type": "code",
     "checksum": "a7107bd94f343564a8eca0d77f8eb7b8",
     "grade": true,
     "grade_id": "cell-ee91ea7f43573fe7",
     "locked": false,
     "points": 3,
     "schema_version": 3,
     "solution": true,
     "task": false
    }
   },
   "outputs": [],
   "source": [
    "# YOUR CODE HERE\n",
    "raise NotImplementedError()"
   ]
  },
  {
   "cell_type": "markdown",
   "metadata": {
    "deletable": false,
    "editable": false,
    "nbgrader": {
     "cell_type": "markdown",
     "checksum": "6b914137fa14595a29dc5b294d90a4ec",
     "grade": false,
     "grade_id": "cell-e78c0ae1ca767fa4",
     "locked": true,
     "schema_version": 3,
     "solution": false,
     "task": false
    }
   },
   "source": [
    "## Part 2. Changing pitch "
   ]
  },
  {
   "cell_type": "markdown",
   "metadata": {
    "deletable": false,
    "editable": false,
    "nbgrader": {
     "cell_type": "markdown",
     "checksum": "b4e2b9e2b2a2a4f013063f9018ef8081",
     "grade": false,
     "grade_id": "cell-d00727cda4c68354",
     "locked": true,
     "schema_version": 3,
     "solution": false,
     "task": false
    }
   },
   "source": [
    "We will now correct the pitch of that last horrible note. We will use the zero crossing method to find where the periods are and then we will shift them appropriately to create a pitch of 274Hz.\n",
    "\n",
    "1. Get samples 303,000 to 445,000 which is the horrible part.\n",
    "\n",
    "2. Lowpass filter to facilitate the zero crossing finding\n",
    "\n",
    "    - Pick an appropriate cutoff frequency that will help\n",
    "    – Use the ```scipy.signal.filtfilt()``` function which will not time-shift the input\n",
    "    \n",
    "3. Find the zero crossing points which should be the starts of each period\n",
    "\n",
    "4. For each period get the signal from the previous period’s start till this period’s end\n",
    "\n",
    "5. Window that signal with a Hann window to remove any discontinuities\n",
    "\n",
    "6. Overlap add each of the above at a rate appropriate for 274Hz\n",
    "\n",
    "Play the sound, does it sound more in tune? (it better!)"
   ]
  },
  {
   "cell_type": "code",
   "execution_count": null,
   "metadata": {
    "deletable": false,
    "nbgrader": {
     "cell_type": "code",
     "checksum": "24654389947f7a3294187314452a6f43",
     "grade": true,
     "grade_id": "cell-fcc5a84619616b4c",
     "locked": false,
     "points": 3,
     "schema_version": 3,
     "solution": true,
     "task": false
    }
   },
   "outputs": [],
   "source": [
    "# YOUR CODE HERE\n",
    "raise NotImplementedError()"
   ]
  }
 ],
 "metadata": {
  "kernelspec": {
   "display_name": "Python 3",
   "language": "python",
   "name": "python3"
  },
  "language_info": {
   "codemirror_mode": {
    "name": "ipython",
    "version": 3
   },
   "file_extension": ".py",
   "mimetype": "text/x-python",
   "name": "python",
   "nbconvert_exporter": "python",
   "pygments_lexer": "ipython3",
   "version": "3.7.4"
  }
 },
 "nbformat": 4,
 "nbformat_minor": 2
}
