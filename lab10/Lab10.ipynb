{
  "cells": [
    {
      "cell_type": "markdown",
      "source": [
        "# Lab 10: Spectral Factorizations"
      ],
      "metadata": {
        "deletable": false,
        "editable": false,
        "nbgrader": {
          "cell_type": "markdown",
          "checksum": "afa352b7ea4139a40ecf5ef06228d1ea",
          "grade": false,
          "grade_id": "cell-596aab8fbea009c8",
          "locked": true,
          "schema_version": 3,
          "solution": false,
          "task": false
        }
      }
    },
    {
      "cell_type": "markdown",
      "source": [
        "## Part 1. Learning Spectral Components"
      ],
      "metadata": {
        "deletable": false,
        "editable": false,
        "nbgrader": {
          "cell_type": "markdown",
          "checksum": "cb4e9fe6aad52dca2addee9a92e02693",
          "grade": false,
          "grade_id": "cell-def73cb6e27ce56f",
          "locked": true,
          "schema_version": 3,
          "solution": false,
          "task": false
        }
      }
    },
    {
      "cell_type": "markdown",
      "source": [
        "In this part we will design a simple component analyzer. Use the sound file [https://drive.google.com/uc?export=download&id=1fyHhUqYVOrIPzSMJoQC78sqeokjqI4ib]. This is a drum loop with four distinct sounds (bass drum, snare drum, cymbal and synthetic bell sound). We will use a spectral factorization that will allow us to extract them all. Obtain the STFT of this signal and use a DFT size of 4096, a hop size of 256 and a Hann window. This will be stored in a matrix $\\mathbf F$ whose size will be $M$ by $N$. \n",
        "\n",
        "You now need to implement a factorization technique. This is defined as:\n",
        "\n",
        "$$|\\mathbf F | \\approx \\mathbf{W} \\cdot \\mathbf{H}$$\n",
        "$$\\mathbf{F} \\in \\mathbb{R}^{M\\times N}_+, \\mathbf{W} \\in \\mathbb{R}^{M\\times K}_+, \\mathbf{H} \\in \\mathbb{R}^{K\\times N}_+$$\n",
        "\n",
        "Where $\\mathbb{R}^{A\\times B}_+$ is the set of matrices of size $A \\times B$ containing non-negative elements, and $|\\mathbf{F}|$ takes the absolute value of the STFT matrix $\\mathbf{F}$.  In this case we will use $K$=4 since the mix we are analyzing has four distinct sounds.  To estimate the values of $\\mathbf{W}$ and $\\mathbf{H}$ start by filling them with uniformly random values between 10 to 11 and iterate over the following equations:\n",
        "\n",
        "$$\\mathbf{V} = \\frac{|\\mathbf{F}|}{\\mathbf{W}\\cdot \\mathbf{H} + \\epsilon}$$\n",
        "$$\\mathbf{H} = \\mathbf{H} \\odot \\left[ \\mathbf{W}^\\top \\cdot \\mathbf{V} \\right]$$\n",
        "$$\\mathbf{W} = \\mathbf{W} \\odot \\left[ \\mathbf{V} \\cdot \\mathbf{H}^\\top \\right]$$\n",
        "\n",
        "Where $\\odot$ denotes element-wise multiplication and the fraction performs element-wise division.  The constant $\\epsilon$ is assigned to a small value (e.g. 1e-7) to avoid division by zero. After each pass normalize the columns of $\\mathbf{W}$ to sum to 1.  Iterate for about 100 times.\n",
        "\n",
        "Plot the columns of $\\mathbf{W}$ and explain what they correspond to. Plot the rows of $\\mathbf{H}$ and explain them as well. You might have to run the above procedure a couple of times since in some cases the results can come up wrong. Just to be safe, run this a dozen times and show the results that are representative of the majority of the outputs (note that each time the ordering will be different, we only care about the shapes of these quantities, not their order).\n",
        "\n",
        "You can now try to extract each component. Take each column of $\\mathbf{W}$ and compute its outer product with its corresponding row of $\\mathbf{H}$. This will approximate only one component of the input spectrogram. Plot all four products and explain what they look like. Use the phase of the original input to invert these resulting spectrograms to the time domain and listen to them. What do they sound like?"
      ],
      "metadata": {
        "deletable": false,
        "editable": false,
        "nbgrader": {
          "cell_type": "markdown",
          "checksum": "3de9e26bcfe703e746a4880a6a085306",
          "grade": false,
          "grade_id": "cell-ee4867451038f36c",
          "locked": true,
          "schema_version": 3,
          "solution": false,
          "task": false
        }
      }
    },
    {
      "cell_type": "code",
      "source": [
        "# YOUR CODE HERE\n",
        "raise NotImplementedError()"
      ],
      "outputs": [],
      "execution_count": null,
      "metadata": {
        "deletable": false,
        "nbgrader": {
          "cell_type": "code",
          "checksum": "6054ba1a6cd12f47cfb4800abec6f821",
          "grade": true,
          "grade_id": "cell-56c5846731969747",
          "locked": false,
          "points": 3,
          "schema_version": 3,
          "solution": true,
          "task": false
        }
      }
    },
    {
      "cell_type": "markdown",
      "source": [
        "## Part 2: Training Dictionaries for Source Separation"
      ],
      "metadata": {
        "deletable": false,
        "editable": false,
        "nbgrader": {
          "cell_type": "markdown",
          "checksum": "79df7faa1eaa42b995642fd1cab97961",
          "grade": false,
          "grade_id": "cell-ec106908148cee2f",
          "locked": true,
          "schema_version": 3,
          "solution": false,
          "task": false
        }
      }
    },
    {
      "cell_type": "markdown",
      "source": [
        "In this section we will design a system that separates speech of a known speaker from a known type of noise. Use the sound files [https://drive.google.com/uc?export=download&id=1fhTSrXDDbsp06oqlrBL9p9JToC4Mws11 ] and [https://drive.google.com/uc?export=download&id=1fmtVWSLp5ZB5_pkFvr8BEXSj0bRuNe70] from the lab archive.\n",
        "\n",
        "One of them is of speech and the other one of chimes. Take the first sentence of the speech sound and a segment which is just as long from the beginning of the chime sound and add them together. This will be a mixture that we will try to separate. The rest of the data we will use for training dictionary models.\n",
        "Taking the rest of the speech data run a factorization as we’ve done above with $K$ = 40. Do the same with the remaining chime sound. From these you will obtain two matrices $\\mathbf{W}_s$ and $\\mathbf{W}_c$. These are the dictionaries of the two sounds. If you visually inspect them you will see that they look a lot like representative spectra of these two sounds.\n",
        "\n",
        "In order to resolve the mixture we need to use these dictionaries to explain its spectrogram and then only use each dictionary’s contribution to resynthesize a time signal. This essentially involves finding the $\\mathbf{H}$ matrix while fixing the $\\mathbf{W}$ matrix to be a concatenation of $\\mathbf{W}_s$ and $\\mathbf{W}_c$. You can do that using the iterative approach used in the previous part, but only updating $\\mathbf{H}$ and not updating $\\mathbf{W}$ at every iteration. If you do this on the mixture you will ultimately get a $\\mathbf{H}$ that will let us know how to combine the elements of the pretrained dictionaries to approximate the input.\n",
        "\n",
        "To extract the two sounds you need to isolate the contribution of the two dictionaries on the mixture. That will be $\\mathbf{F}_s = \\mathbf{W}_s \\cdot \\mathbf{H}_s$ and $\\mathbf{F}_c = \\mathbf{W}_c \\cdot \\mathbf{H}_c$, where $\\mathbf{H}_s$ corresponds to the first 40 rows of $\\mathbf{H}$ and $\\mathbf{H}_c$ to its second 40 rows. $\\mathbf{F}_s$ and $\\mathbf{F}_c$  will correspond to the magnitude spectrograms of the two extracted sources. Just as before use the phase of the input mixture to invert these back to the time domain and listen to them. Do they sound like they are separated? Play around with the STFT parameters until you get the best sounding results."
      ],
      "metadata": {
        "deletable": false,
        "editable": false,
        "nbgrader": {
          "cell_type": "markdown",
          "checksum": "508850a36964ea6bd1effea68578c4cf",
          "grade": false,
          "grade_id": "cell-8e1655c02288ecd7",
          "locked": true,
          "schema_version": 3,
          "solution": false,
          "task": false
        }
      }
    },
    {
      "cell_type": "code",
      "source": [
        "# YOUR CODE HERE\n",
        "raise NotImplementedError()"
      ],
      "outputs": [],
      "execution_count": null,
      "metadata": {
        "deletable": false,
        "nbgrader": {
          "cell_type": "code",
          "checksum": "3452615d16ef873eb5f365511efd2732",
          "grade": true,
          "grade_id": "cell-24d3a1dd6da0bc0c",
          "locked": false,
          "points": 3,
          "schema_version": 3,
          "solution": true,
          "task": false
        }
      }
    }
  ],
  "metadata": {
    "kernelspec": {
      "display_name": "Python 3",
      "language": "python",
      "name": "python3"
    },
    "language_info": {
      "codemirror_mode": {
        "name": "ipython",
        "version": 3
      },
      "file_extension": ".py",
      "mimetype": "text/x-python",
      "name": "python",
      "nbconvert_exporter": "python",
      "pygments_lexer": "ipython3",
      "version": "3.7.4"
    },
    "nteract": {
      "version": "0.28.0"
    }
  },
  "nbformat": 4,
  "nbformat_minor": 2
}